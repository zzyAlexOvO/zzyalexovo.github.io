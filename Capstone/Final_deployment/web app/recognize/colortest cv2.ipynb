{
 "cells": [
  {
   "cell_type": "code",
   "execution_count": 1,
   "id": "b5799dcf",
   "metadata": {},
   "outputs": [
    {
     "ename": "error",
     "evalue": "OpenCV(4.5.3) C:\\Users\\runneradmin\\AppData\\Local\\Temp\\pip-req-build-u4kjpz2z\\opencv\\modules\\highgui\\src\\window_w32.cpp:2577: error: (-27:Null pointer) NULL window: 'colorTest' in function 'cvGetTrackbarPos'\n",
     "output_type": "error",
     "traceback": [
      "\u001b[1;31m---------------------------------------------------------------------------\u001b[0m",
      "\u001b[1;31merror\u001b[0m                                     Traceback (most recent call last)",
      "\u001b[1;32m<ipython-input-1-41b718588aca>\u001b[0m in \u001b[0;36m<module>\u001b[1;34m\u001b[0m\n\u001b[0;32m     27\u001b[0m \u001b[1;32mwhile\u001b[0m \u001b[1;32mTrue\u001b[0m\u001b[1;33m:\u001b[0m\u001b[1;33m\u001b[0m\u001b[1;33m\u001b[0m\u001b[0m\n\u001b[0;32m     28\u001b[0m     \u001b[1;31m# Get HSV values from the GUI sliders.\u001b[0m\u001b[1;33m\u001b[0m\u001b[1;33m\u001b[0m\u001b[1;33m\u001b[0m\u001b[0m\n\u001b[1;32m---> 29\u001b[1;33m     \u001b[0mlowHue\u001b[0m \u001b[1;33m=\u001b[0m \u001b[0mcv2\u001b[0m\u001b[1;33m.\u001b[0m\u001b[0mgetTrackbarPos\u001b[0m\u001b[1;33m(\u001b[0m\u001b[1;34m'lowHue'\u001b[0m\u001b[1;33m,\u001b[0m \u001b[1;34m'colorTest'\u001b[0m\u001b[1;33m)\u001b[0m\u001b[1;33m\u001b[0m\u001b[1;33m\u001b[0m\u001b[0m\n\u001b[0m\u001b[0;32m     30\u001b[0m     \u001b[0mlowSat\u001b[0m \u001b[1;33m=\u001b[0m \u001b[0mcv2\u001b[0m\u001b[1;33m.\u001b[0m\u001b[0mgetTrackbarPos\u001b[0m\u001b[1;33m(\u001b[0m\u001b[1;34m'lowSat'\u001b[0m\u001b[1;33m,\u001b[0m \u001b[1;34m'colorTest'\u001b[0m\u001b[1;33m)\u001b[0m\u001b[1;33m\u001b[0m\u001b[1;33m\u001b[0m\u001b[0m\n\u001b[0;32m     31\u001b[0m     \u001b[0mlowVal\u001b[0m \u001b[1;33m=\u001b[0m \u001b[0mcv2\u001b[0m\u001b[1;33m.\u001b[0m\u001b[0mgetTrackbarPos\u001b[0m\u001b[1;33m(\u001b[0m\u001b[1;34m'lowVal'\u001b[0m\u001b[1;33m,\u001b[0m \u001b[1;34m'colorTest'\u001b[0m\u001b[1;33m)\u001b[0m\u001b[1;33m\u001b[0m\u001b[1;33m\u001b[0m\u001b[0m\n",
      "\u001b[1;31merror\u001b[0m: OpenCV(4.5.3) C:\\Users\\runneradmin\\AppData\\Local\\Temp\\pip-req-build-u4kjpz2z\\opencv\\modules\\highgui\\src\\window_w32.cpp:2577: error: (-27:Null pointer) NULL window: 'colorTest' in function 'cvGetTrackbarPos'\n"
     ]
    }
   ],
   "source": [
    "import cv2\n",
    "import numpy as np\n",
    " \n",
    "def nothing(*arg):\n",
    "        pass\n",
    " \n",
    "# Initial HSV GUI slider values to load on program start.\n",
    "#icol = (36, 202, 59, 71, 255, 255)    # Green\n",
    "icol = (18, 0, 196, 36, 255, 255)  # Yellow\n",
    "#icol = (89, 0, 0, 125, 255, 255)  # Blue\n",
    "#icol = (0, 100, 80, 10, 255, 255)   # Red\n",
    "cv2.namedWindow('colorTest')\n",
    "# Lower range colour sliders.\n",
    "cv2.createTrackbar('lowHue', 'colorTest', icol[0], 255, nothing)\n",
    "cv2.createTrackbar('lowSat', 'colorTest', icol[1], 255, nothing)\n",
    "cv2.createTrackbar('lowVal', 'colorTest', icol[2], 255, nothing)\n",
    "# Higher range colour sliders.\n",
    "cv2.createTrackbar('highHue', 'colorTest', icol[3], 255, nothing)\n",
    "cv2.createTrackbar('highSat', 'colorTest', icol[4], 255, nothing)\n",
    "cv2.createTrackbar('highVal', 'colorTest', icol[5], 255, nothing)\n",
    " \n",
    "# Raspberry pi file path example.\n",
    "#frame = cv2.imread('/home/pi/python3/opencv/color-test/colour-circles-test.jpg')\n",
    "# Windows file path example.\n",
    "frame = cv2.imread('example.png')\n",
    " \n",
    "while True:\n",
    "    # Get HSV values from the GUI sliders.\n",
    "    lowHue = cv2.getTrackbarPos('lowHue', 'colorTest')\n",
    "    lowSat = cv2.getTrackbarPos('lowSat', 'colorTest')\n",
    "    lowVal = cv2.getTrackbarPos('lowVal', 'colorTest')\n",
    "    highHue = cv2.getTrackbarPos('highHue', 'colorTest')\n",
    "    highSat = cv2.getTrackbarPos('highSat', 'colorTest')\n",
    "    highVal = cv2.getTrackbarPos('highVal', 'colorTest')\n",
    " \n",
    "    # Show the original image.\n",
    "    cv2.imshow('frame', frame)\n",
    "    \n",
    "    # Blur methods available, comment or uncomment to try different blur methods.\n",
    "    frameBGR = cv2.GaussianBlur(frame, (7, 7), 0)\n",
    "    #frameBGR = cv2.medianBlur(frameBGR, 7)\n",
    "    #frameBGR = cv2.bilateralFilter(frameBGR, 15 ,75, 75)\n",
    "    #\"\"\"kernal = np.ones((15, 15), np.float32)/255\n",
    "    #frameBGR = cv2.filter2D(frameBGR, -1, kernal)\"\"\"\n",
    "\t\n",
    "    # Show blurred image.\n",
    "    cv2.imshow('blurred', frameBGR)\n",
    "\t\n",
    "    # HSV (Hue, Saturation, Value).\n",
    "    # Convert the frame to HSV colour model.\n",
    "    hsv = cv2.cvtColor(frameBGR, cv2.COLOR_BGR2HSV)\n",
    "    \n",
    "    # HSV values to define a colour range.\n",
    "    colorLow = np.array([lowHue,lowSat,lowVal])\n",
    "    colorHigh = np.array([highHue,highSat,highVal])\n",
    "    mask = cv2.inRange(hsv, colorLow, colorHigh)\n",
    "    # Show the first mask\n",
    "    cv2.imshow('mask-plain', mask)\n",
    " \n",
    "    kernal = cv2.getStructuringElement(cv2.MORPH_ELLIPSE, (7, 7))\n",
    "    mask = cv2.morphologyEx(mask, cv2.MORPH_CLOSE, kernal)\n",
    "    mask = cv2.morphologyEx(mask, cv2.MORPH_OPEN, kernal)\n",
    " \n",
    "    # Show morphological transformation mask\n",
    "    cv2.imshow('mask', mask)\n",
    "    \n",
    "    # Put mask over top of the original image.\n",
    "    result = cv2.bitwise_and(frame, frame, mask = mask)\n",
    " \n",
    "    # Show final output image\n",
    "    cv2.imshow('colorTest', result)\n",
    "\t\n",
    "    k = cv2.waitKey(5) & 0xFF\n",
    "    if k == 27:\n",
    "        break\n",
    "    \n",
    "cv2.destroyAllWindows()"
   ]
  },
  {
   "cell_type": "code",
   "execution_count": null,
   "id": "6c3e9b57",
   "metadata": {},
   "outputs": [],
   "source": [
    "a=def(\"Hello\")"
   ]
  },
  {
   "cell_type": "code",
   "execution_count": null,
   "id": "84c1d4df",
   "metadata": {},
   "outputs": [],
   "source": []
  }
 ],
 "metadata": {
  "kernelspec": {
   "display_name": "Python 3",
   "language": "python",
   "name": "python3"
  },
  "language_info": {
   "codemirror_mode": {
    "name": "ipython",
    "version": 3
   },
   "file_extension": ".py",
   "mimetype": "text/x-python",
   "name": "python",
   "nbconvert_exporter": "python",
   "pygments_lexer": "ipython3",
   "version": "3.8.8"
  }
 },
 "nbformat": 4,
 "nbformat_minor": 5
}
