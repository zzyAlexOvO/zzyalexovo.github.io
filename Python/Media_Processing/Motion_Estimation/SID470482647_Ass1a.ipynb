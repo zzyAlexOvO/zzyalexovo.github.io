{
 "cells": [
  {
   "cell_type": "code",
   "execution_count": 1,
   "metadata": {},
   "outputs": [],
   "source": [
    "import sys\n",
    "import os\n",
    "import cv2\n",
    "import numpy as np\n",
    "import random\n",
    "import math\n",
    "from matplotlib import pyplot as plt\n",
    "path_to_video = './input.mp4'\n",
    "%matplotlib inline"
   ]
  },
  {
   "cell_type": "code",
   "execution_count": 2,
   "metadata": {},
   "outputs": [],
   "source": [
    "def SSD(current_frame, reference_frame, k, x, y, x1, y1):\n",
    "    ssd = 0\n",
    "    for a in range(-k,k+1):\n",
    "        for b in range(-k,k+1):\n",
    "            for c in range(0,3):\n",
    "                ssd += (int(current_frame[x+a][y+b][c]) - int(reference_frame[x1+a][y1+b][c])) ** 2\n",
    "    ssd = ssd ** 0.5\n",
    "    return ssd\n",
    "    "
   ]
  },
  {
   "cell_type": "code",
   "execution_count": 3,
   "metadata": {},
   "outputs": [],
   "source": [
    "def find_the_vertex(current_frame, reference_frame, k, x, y, neighbour_radius, frame_height, frame_width):\n",
    "    min = [];\n",
    "    for x1 in range(-neighbour_radius,neighbour_radius+1):\n",
    "        for y1 in range(-neighbour_radius,neighbour_radius+1):\n",
    "            if(x + x1*2*k - k <= 0) or (y + y1*2*k -k  <= 0) or (x + x1*2*k +k>=frame_height) or (y + y1*2*k +k>=frame_width):\n",
    "                continue\n",
    "            ssd = SSD(current_frame, reference_frame, k, x, y, x + x1*2*k, y + y1*2*k)\n",
    "            if len(min) == 0:\n",
    "                min = [x1,y1,ssd]\n",
    "            elif ssd<min[2]:\n",
    "                min = [x1,y1,ssd]\n",
    "    return x+min[0]*k,y+min[1]*k,min[2]"
   ]
  },
  {
   "cell_type": "code",
   "execution_count": 4,
   "metadata": {},
   "outputs": [],
   "source": [
    "def find_the_vertices(current_frame, reference_frame, frame_height, frame_width, k, neighbour_radius, Tmin, Tmax):\n",
    "    block_horizontal_number = int(frame_width/(2*k+1))\n",
    "    block_vertical_number = int(frame_height/(2*k+1))\n",
    "    img = current_frame\n",
    "    for x in range(2,block_vertical_number+1):\n",
    "        for y in range(2,block_horizontal_number+1):\n",
    "            #print(\"the x is {}, y is {}\".format(str(k * (x * 2 - 1)),str(k * (y * 2 - 1))))\n",
    "            x1, y1, ssd = find_the_vertex(current_frame, reference_frame, k, k * (x * 2 - 1) , k * (y * 2 - 1), neighbour_radius, frame_height, frame_width)\n",
    "            if (ssd < Tmin) or (ssd>Tmax) or (x1==k * (x * 2 - 1) and y1 == k * (y * 2 - 1)):\n",
    "                continue\n",
    "            img = arrowdraw(img,k * (y * 2 - 1),k * (x * 2 - 1),y1,x1)\n",
    "    return img"
   ]
  },
  {
   "cell_type": "code",
   "execution_count": 5,
   "metadata": {},
   "outputs": [],
   "source": [
    "def arrowdraw(img, x1, y1, x2, y2):\n",
    "    radians = math.atan2(x1-x2, y2-y1)\n",
    "    x11 = 0\n",
    "    y11 = 0\n",
    "    x12 = -10\n",
    "    y12 = -10\n",
    "\n",
    "    u11 = 0\n",
    "    v11 = 0\n",
    "    u12 = 10\n",
    "    v12 = -10\n",
    "    \n",
    "    x11_ = x11*math.cos(radians) - y11*math.sin(radians) + x2\n",
    "    y11_ = x11*math.sin(radians) + y11*math.cos(radians) + y2\n",
    "\n",
    "    x12_ = x12 * math.cos(radians) - y12 * math.sin(radians) + x2\n",
    "    y12_ = x12 * math.sin(radians) + y12 * math.cos(radians) + y2\n",
    "    \n",
    "    u11_ = u11 * math.cos(radians) - v11 * math.sin(radians) + x2\n",
    "    v11_ = u11 * math.sin(radians) + v11 * math.cos(radians) + y2\n",
    "\n",
    "    u12_ = u12 * math.cos(radians) - v12 * math.sin(radians) + x2\n",
    "    v12_ = u12 * math.sin(radians) + v12 * math.cos(radians) + y2\n",
    "    img = cv2.line(img, (x1, y1), (x2, y2), (255, 0, 0), 5)\n",
    "    img = cv2.line(img, (int(x11_), int(y11_)), (int(x12_), int(y12_)), \n",
    "    (255, 0, 0), 5)\n",
    "    img = cv2.line(img, (int(u11_), int(v11_)), (int(u12_), int(v12_)), \n",
    "    (255, 0, 0), 5)\n",
    "    \n",
    "    return img"
   ]
  },
  {
   "cell_type": "markdown",
   "metadata": {},
   "source": [
    "### Extract Frames from a Video"
   ]
  },
  {
   "cell_type": "code",
   "execution_count": 6,
   "metadata": {},
   "outputs": [],
   "source": [
    "frame_save_path = './frames/'"
   ]
  },
  {
   "cell_type": "code",
   "execution_count": 7,
   "metadata": {},
   "outputs": [],
   "source": [
    "def create_dir_if_not_exists(directory):\n",
    "    if not os.path.exists(directory):\n",
    "        os.makedirs(directory)"
   ]
  },
  {
   "cell_type": "code",
   "execution_count": 8,
   "metadata": {},
   "outputs": [
    {
     "name": "stdout",
     "output_type": "stream",
     "text": [
      "Video Reach End\n"
     ]
    }
   ],
   "source": [
    "cap = cv2.VideoCapture(path_to_video)\n",
    "create_dir_if_not_exists(frame_save_path) # Or you can create it manully\n",
    "if not cap.isOpened():\n",
    "    print('{} not opened'.format(path_to_video))\n",
    "    sys.exit(1)\n",
    "time_length = int(cap.get(cv2.CAP_PROP_FRAME_COUNT))\n",
    "frame_height = int(cap.get(cv2.CAP_PROP_FRAME_HEIGHT))\n",
    "frame_width = int(cap.get(cv2.CAP_PROP_FRAME_WIDTH))\n",
    "frame_counter = 0 # FRAME_COUNTER\n",
    "while(1):\n",
    "    return_flag, frame = cap.read()  \n",
    "    if not return_flag:\n",
    "        print('Video Reach End')\n",
    "        break\n",
    "    # Main Content - Start\n",
    "    cv2.imshow('VideoWindowTitle-Quadrangle', frame)\n",
    "    cv2.imwrite(frame_save_path + 'frame%d.tif' % frame_counter, frame)\n",
    "    frame_counter += 1\n",
    "    # Main Content - End    \n",
    "    if cv2.waitKey(30) & 0xff == ord('q'):\n",
    "        break\n",
    "cap.release()\n",
    "cv2.destroyAllWindows()"
   ]
  },
  {
   "cell_type": "markdown",
   "metadata": {},
   "source": [
    "### Convert Frame Sequence to Video"
   ]
  },
  {
   "cell_type": "code",
   "execution_count": 9,
   "metadata": {},
   "outputs": [],
   "source": [
    "frame_load_path = './frames/'\n",
    "path_to_output_video = './output.mov'"
   ]
  },
  {
   "cell_type": "code",
   "execution_count": 11,
   "metadata": {
    "scrolled": false
   },
   "outputs": [
    {
     "name": "stdout",
     "output_type": "stream",
     "text": [
      "1\n"
     ]
    },
    {
     "ename": "KeyboardInterrupt",
     "evalue": "",
     "output_type": "error",
     "traceback": [
      "\u001b[1;31m---------------------------------------------------------------------------\u001b[0m",
      "\u001b[1;31mKeyboardInterrupt\u001b[0m                         Traceback (most recent call last)",
      "\u001b[1;32m<ipython-input-11-9ed1aa9ca7c9>\u001b[0m in \u001b[0;36m<module>\u001b[1;34m\u001b[0m\n\u001b[0;32m      7\u001b[0m         \u001b[0mprint\u001b[0m\u001b[1;33m(\u001b[0m\u001b[1;34m'No more frames to be loaded'\u001b[0m\u001b[1;33m)\u001b[0m\u001b[1;33m\u001b[0m\u001b[1;33m\u001b[0m\u001b[0m\n\u001b[0;32m      8\u001b[0m         \u001b[1;32mbreak\u001b[0m\u001b[1;33m;\u001b[0m\u001b[1;33m\u001b[0m\u001b[1;33m\u001b[0m\u001b[0m\n\u001b[1;32m----> 9\u001b[1;33m     \u001b[0mimg\u001b[0m \u001b[1;33m=\u001b[0m \u001b[0mfind_the_vertices\u001b[0m\u001b[1;33m(\u001b[0m\u001b[0mcurrent_frame\u001b[0m\u001b[1;33m,\u001b[0m \u001b[0mreference_frame\u001b[0m\u001b[1;33m,\u001b[0m \u001b[0mframe_height\u001b[0m\u001b[1;33m,\u001b[0m \u001b[0mframe_width\u001b[0m\u001b[1;33m,\u001b[0m \u001b[1;36m3\u001b[0m\u001b[1;33m,\u001b[0m \u001b[1;36m2\u001b[0m\u001b[1;33m,\u001b[0m\u001b[1;36m100\u001b[0m\u001b[1;33m,\u001b[0m\u001b[1;36m200\u001b[0m\u001b[1;33m)\u001b[0m\u001b[1;33m\u001b[0m\u001b[1;33m\u001b[0m\u001b[0m\n\u001b[0m\u001b[0;32m     10\u001b[0m     \u001b[0mframe_counter\u001b[0m \u001b[1;33m+=\u001b[0m \u001b[1;36m1\u001b[0m\u001b[1;33m\u001b[0m\u001b[1;33m\u001b[0m\u001b[0m\n\u001b[0;32m     11\u001b[0m     \u001b[0mcv2\u001b[0m\u001b[1;33m.\u001b[0m\u001b[0mimwrite\u001b[0m\u001b[1;33m(\u001b[0m\u001b[0mframe_save_path\u001b[0m \u001b[1;33m+\u001b[0m \u001b[1;34m'Changedframe%d.tif'\u001b[0m \u001b[1;33m%\u001b[0m \u001b[0mframe_counter\u001b[0m\u001b[1;33m,\u001b[0m \u001b[0mimg\u001b[0m\u001b[1;33m)\u001b[0m\u001b[1;33m\u001b[0m\u001b[1;33m\u001b[0m\u001b[0m\n",
      "\u001b[1;32m<ipython-input-4-4d70fd4dccba>\u001b[0m in \u001b[0;36mfind_the_vertices\u001b[1;34m(current_frame, reference_frame, frame_height, frame_width, k, neighbour_radius, Tmin, Tmax)\u001b[0m\n\u001b[0;32m      6\u001b[0m         \u001b[1;32mfor\u001b[0m \u001b[0my\u001b[0m \u001b[1;32min\u001b[0m \u001b[0mrange\u001b[0m\u001b[1;33m(\u001b[0m\u001b[1;36m2\u001b[0m\u001b[1;33m,\u001b[0m\u001b[0mblock_horizontal_number\u001b[0m\u001b[1;33m+\u001b[0m\u001b[1;36m1\u001b[0m\u001b[1;33m)\u001b[0m\u001b[1;33m:\u001b[0m\u001b[1;33m\u001b[0m\u001b[1;33m\u001b[0m\u001b[0m\n\u001b[0;32m      7\u001b[0m             \u001b[1;31m#print(\"the x is {}, y is {}\".format(str(k * (x * 2 - 1)),str(k * (y * 2 - 1))))\u001b[0m\u001b[1;33m\u001b[0m\u001b[1;33m\u001b[0m\u001b[1;33m\u001b[0m\u001b[0m\n\u001b[1;32m----> 8\u001b[1;33m             \u001b[0mx1\u001b[0m\u001b[1;33m,\u001b[0m \u001b[0my1\u001b[0m\u001b[1;33m,\u001b[0m \u001b[0mssd\u001b[0m \u001b[1;33m=\u001b[0m \u001b[0mfind_the_vertex\u001b[0m\u001b[1;33m(\u001b[0m\u001b[0mcurrent_frame\u001b[0m\u001b[1;33m,\u001b[0m \u001b[0mreference_frame\u001b[0m\u001b[1;33m,\u001b[0m \u001b[0mk\u001b[0m\u001b[1;33m,\u001b[0m \u001b[0mk\u001b[0m \u001b[1;33m*\u001b[0m \u001b[1;33m(\u001b[0m\u001b[0mx\u001b[0m \u001b[1;33m*\u001b[0m \u001b[1;36m2\u001b[0m \u001b[1;33m-\u001b[0m \u001b[1;36m1\u001b[0m\u001b[1;33m)\u001b[0m \u001b[1;33m,\u001b[0m \u001b[0mk\u001b[0m \u001b[1;33m*\u001b[0m \u001b[1;33m(\u001b[0m\u001b[0my\u001b[0m \u001b[1;33m*\u001b[0m \u001b[1;36m2\u001b[0m \u001b[1;33m-\u001b[0m \u001b[1;36m1\u001b[0m\u001b[1;33m)\u001b[0m\u001b[1;33m,\u001b[0m \u001b[0mneighbour_radius\u001b[0m\u001b[1;33m,\u001b[0m \u001b[0mframe_height\u001b[0m\u001b[1;33m,\u001b[0m \u001b[0mframe_width\u001b[0m\u001b[1;33m)\u001b[0m\u001b[1;33m\u001b[0m\u001b[1;33m\u001b[0m\u001b[0m\n\u001b[0m\u001b[0;32m      9\u001b[0m             \u001b[1;32mif\u001b[0m \u001b[1;33m(\u001b[0m\u001b[0mssd\u001b[0m \u001b[1;33m<\u001b[0m \u001b[0mTmin\u001b[0m\u001b[1;33m)\u001b[0m \u001b[1;32mor\u001b[0m \u001b[1;33m(\u001b[0m\u001b[0mssd\u001b[0m\u001b[1;33m>\u001b[0m\u001b[0mTmax\u001b[0m\u001b[1;33m)\u001b[0m \u001b[1;32mor\u001b[0m \u001b[1;33m(\u001b[0m\u001b[0mx1\u001b[0m\u001b[1;33m==\u001b[0m\u001b[0mk\u001b[0m \u001b[1;33m*\u001b[0m \u001b[1;33m(\u001b[0m\u001b[0mx\u001b[0m \u001b[1;33m*\u001b[0m \u001b[1;36m2\u001b[0m \u001b[1;33m-\u001b[0m \u001b[1;36m1\u001b[0m\u001b[1;33m)\u001b[0m \u001b[1;32mand\u001b[0m \u001b[0my1\u001b[0m \u001b[1;33m==\u001b[0m \u001b[0mk\u001b[0m \u001b[1;33m*\u001b[0m \u001b[1;33m(\u001b[0m\u001b[0my\u001b[0m \u001b[1;33m*\u001b[0m \u001b[1;36m2\u001b[0m \u001b[1;33m-\u001b[0m \u001b[1;36m1\u001b[0m\u001b[1;33m)\u001b[0m\u001b[1;33m)\u001b[0m\u001b[1;33m:\u001b[0m\u001b[1;33m\u001b[0m\u001b[1;33m\u001b[0m\u001b[0m\n\u001b[0;32m     10\u001b[0m                 \u001b[1;32mcontinue\u001b[0m\u001b[1;33m\u001b[0m\u001b[1;33m\u001b[0m\u001b[0m\n",
      "\u001b[1;32m<ipython-input-3-3c93c40f4a44>\u001b[0m in \u001b[0;36mfind_the_vertex\u001b[1;34m(current_frame, reference_frame, k, x, y, neighbour_radius, frame_height, frame_width)\u001b[0m\n\u001b[0;32m      5\u001b[0m             \u001b[1;32mif\u001b[0m\u001b[1;33m(\u001b[0m\u001b[0mx\u001b[0m \u001b[1;33m+\u001b[0m \u001b[0mx1\u001b[0m\u001b[1;33m*\u001b[0m\u001b[1;36m2\u001b[0m\u001b[1;33m*\u001b[0m\u001b[0mk\u001b[0m \u001b[1;33m-\u001b[0m \u001b[0mk\u001b[0m \u001b[1;33m<=\u001b[0m \u001b[1;36m0\u001b[0m\u001b[1;33m)\u001b[0m \u001b[1;32mor\u001b[0m \u001b[1;33m(\u001b[0m\u001b[0my\u001b[0m \u001b[1;33m+\u001b[0m \u001b[0my1\u001b[0m\u001b[1;33m*\u001b[0m\u001b[1;36m2\u001b[0m\u001b[1;33m*\u001b[0m\u001b[0mk\u001b[0m \u001b[1;33m-\u001b[0m\u001b[0mk\u001b[0m  \u001b[1;33m<=\u001b[0m \u001b[1;36m0\u001b[0m\u001b[1;33m)\u001b[0m \u001b[1;32mor\u001b[0m \u001b[1;33m(\u001b[0m\u001b[0mx\u001b[0m \u001b[1;33m+\u001b[0m \u001b[0mx1\u001b[0m\u001b[1;33m*\u001b[0m\u001b[1;36m2\u001b[0m\u001b[1;33m*\u001b[0m\u001b[0mk\u001b[0m \u001b[1;33m+\u001b[0m\u001b[0mk\u001b[0m\u001b[1;33m>=\u001b[0m\u001b[0mframe_height\u001b[0m\u001b[1;33m)\u001b[0m \u001b[1;32mor\u001b[0m \u001b[1;33m(\u001b[0m\u001b[0my\u001b[0m \u001b[1;33m+\u001b[0m \u001b[0my1\u001b[0m\u001b[1;33m*\u001b[0m\u001b[1;36m2\u001b[0m\u001b[1;33m*\u001b[0m\u001b[0mk\u001b[0m \u001b[1;33m+\u001b[0m\u001b[0mk\u001b[0m\u001b[1;33m>=\u001b[0m\u001b[0mframe_width\u001b[0m\u001b[1;33m)\u001b[0m\u001b[1;33m:\u001b[0m\u001b[1;33m\u001b[0m\u001b[1;33m\u001b[0m\u001b[0m\n\u001b[0;32m      6\u001b[0m                 \u001b[1;32mcontinue\u001b[0m\u001b[1;33m\u001b[0m\u001b[1;33m\u001b[0m\u001b[0m\n\u001b[1;32m----> 7\u001b[1;33m             \u001b[0mssd\u001b[0m \u001b[1;33m=\u001b[0m \u001b[0mSSD\u001b[0m\u001b[1;33m(\u001b[0m\u001b[0mcurrent_frame\u001b[0m\u001b[1;33m,\u001b[0m \u001b[0mreference_frame\u001b[0m\u001b[1;33m,\u001b[0m \u001b[0mk\u001b[0m\u001b[1;33m,\u001b[0m \u001b[0mx\u001b[0m\u001b[1;33m,\u001b[0m \u001b[0my\u001b[0m\u001b[1;33m,\u001b[0m \u001b[0mx\u001b[0m \u001b[1;33m+\u001b[0m \u001b[0mx1\u001b[0m\u001b[1;33m*\u001b[0m\u001b[1;36m2\u001b[0m\u001b[1;33m*\u001b[0m\u001b[0mk\u001b[0m\u001b[1;33m,\u001b[0m \u001b[0my\u001b[0m \u001b[1;33m+\u001b[0m \u001b[0my1\u001b[0m\u001b[1;33m*\u001b[0m\u001b[1;36m2\u001b[0m\u001b[1;33m*\u001b[0m\u001b[0mk\u001b[0m\u001b[1;33m)\u001b[0m\u001b[1;33m\u001b[0m\u001b[1;33m\u001b[0m\u001b[0m\n\u001b[0m\u001b[0;32m      8\u001b[0m             \u001b[1;32mif\u001b[0m \u001b[0mlen\u001b[0m\u001b[1;33m(\u001b[0m\u001b[0mmin\u001b[0m\u001b[1;33m)\u001b[0m \u001b[1;33m==\u001b[0m \u001b[1;36m0\u001b[0m\u001b[1;33m:\u001b[0m\u001b[1;33m\u001b[0m\u001b[1;33m\u001b[0m\u001b[0m\n\u001b[0;32m      9\u001b[0m                 \u001b[0mmin\u001b[0m \u001b[1;33m=\u001b[0m \u001b[1;33m[\u001b[0m\u001b[0mx1\u001b[0m\u001b[1;33m,\u001b[0m\u001b[0my1\u001b[0m\u001b[1;33m,\u001b[0m\u001b[0mssd\u001b[0m\u001b[1;33m]\u001b[0m\u001b[1;33m\u001b[0m\u001b[1;33m\u001b[0m\u001b[0m\n",
      "\u001b[1;32m<ipython-input-2-5b0a92969e1e>\u001b[0m in \u001b[0;36mSSD\u001b[1;34m(current_frame, reference_frame, k, x, y, x1, y1)\u001b[0m\n\u001b[0;32m      4\u001b[0m         \u001b[1;32mfor\u001b[0m \u001b[0mb\u001b[0m \u001b[1;32min\u001b[0m \u001b[0mrange\u001b[0m\u001b[1;33m(\u001b[0m\u001b[1;33m-\u001b[0m\u001b[0mk\u001b[0m\u001b[1;33m,\u001b[0m\u001b[0mk\u001b[0m\u001b[1;33m+\u001b[0m\u001b[1;36m1\u001b[0m\u001b[1;33m)\u001b[0m\u001b[1;33m:\u001b[0m\u001b[1;33m\u001b[0m\u001b[1;33m\u001b[0m\u001b[0m\n\u001b[0;32m      5\u001b[0m             \u001b[1;32mfor\u001b[0m \u001b[0mc\u001b[0m \u001b[1;32min\u001b[0m \u001b[0mrange\u001b[0m\u001b[1;33m(\u001b[0m\u001b[1;36m0\u001b[0m\u001b[1;33m,\u001b[0m\u001b[1;36m3\u001b[0m\u001b[1;33m)\u001b[0m\u001b[1;33m:\u001b[0m\u001b[1;33m\u001b[0m\u001b[1;33m\u001b[0m\u001b[0m\n\u001b[1;32m----> 6\u001b[1;33m                 \u001b[0mssd\u001b[0m \u001b[1;33m+=\u001b[0m \u001b[1;33m(\u001b[0m\u001b[0mint\u001b[0m\u001b[1;33m(\u001b[0m\u001b[0mcurrent_frame\u001b[0m\u001b[1;33m[\u001b[0m\u001b[0mx\u001b[0m\u001b[1;33m+\u001b[0m\u001b[0ma\u001b[0m\u001b[1;33m]\u001b[0m\u001b[1;33m[\u001b[0m\u001b[0my\u001b[0m\u001b[1;33m+\u001b[0m\u001b[0mb\u001b[0m\u001b[1;33m]\u001b[0m\u001b[1;33m[\u001b[0m\u001b[0mc\u001b[0m\u001b[1;33m]\u001b[0m\u001b[1;33m)\u001b[0m \u001b[1;33m-\u001b[0m \u001b[0mint\u001b[0m\u001b[1;33m(\u001b[0m\u001b[0mreference_frame\u001b[0m\u001b[1;33m[\u001b[0m\u001b[0mx1\u001b[0m\u001b[1;33m+\u001b[0m\u001b[0ma\u001b[0m\u001b[1;33m]\u001b[0m\u001b[1;33m[\u001b[0m\u001b[0my1\u001b[0m\u001b[1;33m+\u001b[0m\u001b[0mb\u001b[0m\u001b[1;33m]\u001b[0m\u001b[1;33m[\u001b[0m\u001b[0mc\u001b[0m\u001b[1;33m]\u001b[0m\u001b[1;33m)\u001b[0m\u001b[1;33m)\u001b[0m \u001b[1;33m**\u001b[0m \u001b[1;36m2\u001b[0m\u001b[1;33m\u001b[0m\u001b[1;33m\u001b[0m\u001b[0m\n\u001b[0m\u001b[0;32m      7\u001b[0m     \u001b[0mssd\u001b[0m \u001b[1;33m=\u001b[0m \u001b[0mssd\u001b[0m \u001b[1;33m**\u001b[0m \u001b[1;36m0.5\u001b[0m\u001b[1;33m\u001b[0m\u001b[1;33m\u001b[0m\u001b[0m\n\u001b[0;32m      8\u001b[0m     \u001b[1;32mreturn\u001b[0m \u001b[0mssd\u001b[0m\u001b[1;33m\u001b[0m\u001b[1;33m\u001b[0m\u001b[0m\n",
      "\u001b[1;31mKeyboardInterrupt\u001b[0m: "
     ]
    }
   ],
   "source": [
    "\n",
    "frame_counter = 0\n",
    "while(1):\n",
    "    current_frame = cv2.imread(frame_load_path + 'frame%d.tif' % frame_counter)\n",
    "    reference_frame = cv2.imread(frame_load_path + 'frame%d.tif' %(frame_counter+1))\n",
    "    if reference_frame is None:\n",
    "        print('No more frames to be loaded')\n",
    "        break;\n",
    "    img = find_the_vertices(current_frame, reference_frame, frame_height, frame_width, 3, 2,100,200)\n",
    "    frame_counter += 1\n",
    "    cv2.imwrite(frame_save_path + 'Changedframe%d.tif' % frame_counter, img)\n",
    "    print(frame_counter)\n",
    "cv2.destroyAllWindows()"
   ]
  },
  {
   "cell_type": "code",
   "execution_count": null,
   "metadata": {},
   "outputs": [],
   "source": [
    "out = cv2.VideoWriter(path_to_output_video, cv2.VideoWriter_fourcc('M', 'J', 'P', 'G'), 24, (int(frame_width), int(frame_height)))\n",
    "frame_counter = 1\n",
    "if (not out.isOpened()):\n",
    "    print(\"writer open error\")\n",
    "while(1):\n",
    "    frame = cv2.imread(frame_save_path + 'Changedframe%d.tif' % frame_counter)\n",
    "    print(frame)\n",
    "    if frame is None:\n",
    "        print('No more frames to be loaded')\n",
    "        break;\n",
    "    out.write(frame)\n",
    "    frame_counter += 1\n",
    "out.release()\n",
    "cv2.destroyAllWindows()"
   ]
  },
  {
   "cell_type": "code",
   "execution_count": null,
   "metadata": {},
   "outputs": [],
   "source": []
  }
 ],
 "metadata": {
  "kernelspec": {
   "display_name": "Python 3",
   "language": "python",
   "name": "python3"
  },
  "language_info": {
   "codemirror_mode": {
    "name": "ipython",
    "version": 3
   },
   "file_extension": ".py",
   "mimetype": "text/x-python",
   "name": "python",
   "nbconvert_exporter": "python",
   "pygments_lexer": "ipython3",
   "version": "3.7.3"
  }
 },
 "nbformat": 4,
 "nbformat_minor": 2
}
